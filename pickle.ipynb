{
 "cells": [
  {
   "cell_type": "code",
   "execution_count": 6,
   "metadata": {},
   "outputs": [],
   "source": [
    "from sklearn import datasets\n",
    "import pickle\n",
    "import numpy as np\n",
    "\n",
    "# CODE HELPER 1 - notice how data is saved -> training.cnn format\n",
    "def pickleTrainingData():\n",
    "    def unpickle(file):\n",
    "        with open(file, 'rb') as fo:\n",
    "            dict = pickle.load(fo, encoding='bytes')\n",
    "        return dict\n",
    "\n",
    "    train_data = np.empty((0, 32*32*3))\n",
    "    train_labels = []\n",
    "\n",
    "    for i in range(1, 2):\n",
    "        fileNameDataBatch = './cifar-10-batches-py/data_batch_' + str(i)\n",
    "        batch = unpickle(fileNameDataBatch)\n",
    "        train_data = np.vstack((train_data, batch[b'data']))\n",
    "        train_labels += batch[b'labels']\n",
    "\n",
    "    train_labels = np.array(train_labels)\n",
    "    train_data = train_data.reshape(-1, 32, 32, 3) / 255.0\n",
    "    \n",
    "    # !!!!! NOTICE HOW THE DATA IS SAVED !!!!!!\n",
    "    # Will be returned in form of:\n",
    "    # train_label, train_data  = getDataBack()\n",
    "    pickle.dump([train_labels,train_data], open('./train.cnn', 'wb'))\n",
    "\n",
    "\n",
    "\n",
    "pickleTrainingData()"
   ]
  }
 ],
 "metadata": {
  "kernelspec": {
   "display_name": "venv",
   "language": "python",
   "name": "python3"
  },
  "language_info": {
   "codemirror_mode": {
    "name": "ipython",
    "version": 3
   },
   "file_extension": ".py",
   "mimetype": "text/x-python",
   "name": "python",
   "nbconvert_exporter": "python",
   "pygments_lexer": "ipython3",
   "version": "3.12.6"
  }
 },
 "nbformat": 4,
 "nbformat_minor": 2
}
